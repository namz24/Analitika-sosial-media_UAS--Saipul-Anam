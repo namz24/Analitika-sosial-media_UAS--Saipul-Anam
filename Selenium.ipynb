{
 "cells": [
  {
   "cell_type": "code",
   "execution_count": null,
   "metadata": {},
   "outputs": [],
   "source": [
    "import selenium\n",
    "from selenium import webdriver\n",
    "from selenium.webdriver.common.by import By\n",
    "from selenium.webdriver.common.keys import Keys\n",
    "from selenium.webdriver.support.ui import WebDriverWait\n",
    "from selenium.webdriver.support import expected_conditions as EC\n",
    "from selenium.common.exceptions import NoSuchElementException\n",
    "from time import sleep\n",
    "import getpass"
   ]
  },
  {
   "cell_type": "code",
   "execution_count": null,
   "metadata": {},
   "outputs": [],
   "source": [
    "my_user = \"@ZIXX_004\"\n",
    "my_pass = getpass.getpass()"
   ]
  },
  {
   "cell_type": "code",
   "execution_count": null,
   "metadata": {},
   "outputs": [],
   "source": [
    "driver = webdriver.Firefox()\n",
    "driver.get('https://twitter.com/login')"
   ]
  },
  {
   "cell_type": "code",
   "execution_count": null,
   "metadata": {},
   "outputs": [],
   "source": [
    "# Wait for up to 10 seconds until the element is present\n",
    "user_id = WebDriverWait(driver, 10).until(\n",
    "    EC.presence_of_element_located((By.XPATH, \"//input[@type='text']\"))\n",
    ")\n",
    "user_id.send_keys(my_user)\n",
    "user_id.send_keys(Keys.ENTER)"
   ]
  },
  {
   "cell_type": "code",
   "execution_count": null,
   "metadata": {},
   "outputs": [],
   "source": [
    "password = WebDriverWait(driver, 10).until(\n",
    "    EC.presence_of_element_located((By.XPATH, \"//input[@type='password']\"))\n",
    ")\n",
    "password.send_keys(my_pass)\n",
    "password.send_keys(Keys.ENTER)"
   ]
  },
  {
   "cell_type": "markdown",
   "metadata": {},
   "source": [
    "## Setelah Masuk twitter kita cari search box untuk mencari kata kunci"
   ]
  },
  {
   "cell_type": "markdown",
   "metadata": {},
   "source": [
    "<h4>Masukan Keyword Search</h4>"
   ]
  },
  {
   "cell_type": "code",
   "execution_count": null,
   "metadata": {},
   "outputs": [],
   "source": [
    "search_item = \"Prabowo\""
   ]
  },
  {
   "cell_type": "markdown",
   "metadata": {},
   "source": [
    "<h4>Mengakses search box twitter</h4>"
   ]
  },
  {
   "cell_type": "code",
   "execution_count": null,
   "metadata": {},
   "outputs": [],
   "source": [
    "search_box = WebDriverWait(driver, 30).until(\n",
    "    EC.presence_of_element_located((By.XPATH,\"//input[@data-testid='SearchBox_Search_Input']\"))\n",
    ")\n",
    "search_box.send_keys(search_item)\n",
    "search_box.send_keys(Keys.ENTER)"
   ]
  },
  {
   "cell_type": "code",
   "execution_count": null,
   "metadata": {},
   "outputs": [],
   "source": [
    "import re"
   ]
  },
  {
   "cell_type": "code",
   "execution_count": null,
   "metadata": {},
   "outputs": [],
   "source": [
    "userTags = []\n",
    "timeStamps = []\n",
    "tweets = []\n",
    "replies = []\n",
    "retweets = []\n",
    "likes = []\n",
    "views = []\n",
    "\n",
    "all_tweets = driver.find_elements(By.XPATH, \"//article[@data-testid='tweet']\")\n",
    "while True:\n",
    "    for article in all_tweets:\n",
    "        userTag = article.find_element(By.XPATH, \".//span[contains(text(),'@')]\").text\n",
    "        userTags.append(userTag)\n",
    "\n",
    "        timeStamp = article.find_element(By.XPATH, \".//time\").get_attribute('datetime')\n",
    "        timeStamps.append(timeStamp)\n",
    "\n",
    "        tweet = article.find_element(By.XPATH, \"//div[@data-testid='tweetText']\").text\n",
    "        tweets.append(tweet)\n",
    "\n",
    "        reply = article.find_element(By.XPATH, \".//div[@data-testid='reply']\").text\n",
    "        replies.append(reply)\n",
    "\n",
    "        retweet = article.find_element(By.XPATH, \".//div[@data-testid='retweet']\").text\n",
    "        retweets.append(retweet)\n",
    "\n",
    "        like = article.find_element(By.XPATH, \".//div[@data-testid='like']\").text\n",
    "        likes.append(like)\n",
    "        \n",
    "        View = article.find_element(By.XPATH, \".//div[@data-testid='cellInnerDiv']\"and\".//div[@role='group']\"and\".//a[contains(@aria-label, '\"+\"Lihat\"+\"')]\").text\n",
    "        print(View)\n",
    "        views.append(View)\n",
    "\n",
    "    driver.execute_script('window.scrollTo(0,document.body.scrollHeight);')\n",
    "    sleep(3)\n",
    "    all_tweets = driver.find_elements(By.XPATH, \"//article[@data-testid='tweet']\")\n",
    "    Tweets2 = list(set(tweets))\n",
    "    if len(Tweets2) >= 20:\n",
    "        break\n"
   ]
  },
  {
   "cell_type": "code",
   "execution_count": null,
   "metadata": {},
   "outputs": [],
   "source": [
    "for userTag, timeStamp, tweet, reply, retweet, like, view in zip(userTags, timeStamps, tweets, replies, retweets, likes, views):\n",
    "    print(f\"User: {userTag}\\nTime: {timeStamp}\\nTweet: {tweet}\\nReply: {reply}\\nRetweet: {retweet}\\nLikes: {like}\\n{'-'*50} {view}\\n{'-'*50}\")"
   ]
  },
  {
   "cell_type": "code",
   "execution_count": null,
   "metadata": {},
   "outputs": [],
   "source": [
    "for like, view in zip(like, views):\n",
    "    print(f\"Likes: {like}\\n{'-'*50} {view}\\n{'-'*50}\")"
   ]
  },
  {
   "cell_type": "code",
   "execution_count": null,
   "metadata": {},
   "outputs": [],
   "source": [
    "duplicated_tweets = df[df.duplicated(subset=['tweets'], keep=False)]\n",
    "print(duplicated_tweets)\n"
   ]
  },
  {
   "cell_type": "code",
   "execution_count": null,
   "metadata": {},
   "outputs": [],
   "source": [
    "# Menghapus duplikasi berdasarkan kolom 'tweets'\n",
    "df_cleaned = df.drop_duplicates(subset=['tweets'], keep='first')\n",
    "\n",
    "# Menyimpan DataFrame yang sudah dibersihkan ke dalam file Excel\n",
    "df_cleaned.to_excel(\"D:\\\\tweets_dataframe_cleaned.xlsx\", index=False)\n",
    "\n",
    "# Membuka file Excel setelah proses pembersihan selesai\n",
    "import os\n",
    "os.system('start \"excel\" \"D:\\\\tweets_dataframe_cleaned.xlsx\"')\n"
   ]
  }
 ],
 "metadata": {
  "kernelspec": {
   "display_name": "Python 3",
   "language": "python",
   "name": "python3"
  },
  "language_info": {
   "codemirror_mode": {
    "name": "ipython",
    "version": 3
   },
   "file_extension": ".py",
   "mimetype": "text/x-python",
   "name": "python",
   "nbconvert_exporter": "python",
   "pygments_lexer": "ipython3",
   "version": "3.11.7"
  }
 },
 "nbformat": 4,
 "nbformat_minor": 2
}
